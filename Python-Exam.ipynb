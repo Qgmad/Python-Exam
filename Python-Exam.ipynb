{
 "cells": [
  {
   "cell_type": "code",
   "execution_count": 1,
   "metadata": {},
   "outputs": [],
   "source": [
    "#Prince Kaliraman\n",
    "#2K18CSUN01123\n",
    "#CSE 4A\n",
    "#PT3"
   ]
  },
  {
   "cell_type": "code",
   "execution_count": 2,
   "metadata": {},
   "outputs": [],
   "source": [
    "#Q1-What is the syntax to call a constructor of a base class from child class\n",
    "#super()._init_(parm1,parm2,...)"
   ]
  },
  {
   "cell_type": "code",
   "execution_count": 3,
   "metadata": {},
   "outputs": [],
   "source": [
    "#Q2-How is a class made as inherited class (syntax of child class)\n",
    "class parent:\n",
    "    pass\n",
    "class child(parent):\n",
    "    pass\n",
    "#Class 'child' inherited class 'parent'"
   ]
  },
  {
   "cell_type": "code",
   "execution_count": 4,
   "metadata": {},
   "outputs": [
    {
     "name": "stdout",
     "output_type": "stream",
     "text": [
      "Ali\n"
     ]
    }
   ],
   "source": [
    "#Q3-Print an element of a nested dictionary\n",
    "# Nested dictionary having same keys \n",
    "Dict = { 'Dict1': {'name': 'Ali', 'age': '19'}, \n",
    "         'Dict2': {'name': 'Bob', 'age': '25'}}  \n",
    "# Prints value corresponding to key 'name' in Dict1 \n",
    "print(Dict['Dict1']['name']) "
   ]
  },
  {
   "cell_type": "code",
   "execution_count": 5,
   "metadata": {},
   "outputs": [
    {
     "name": "stdout",
     "output_type": "stream",
     "text": [
      "enter first number: 3\n",
      "enter second number: 4\n",
      "enter third number: 5\n",
      "The answer is: 2.1908902300206643\n"
     ]
    }
   ],
   "source": [
    "#Q4-Write a program that calculates and prints the value according to the formula given\n",
    "#below. Take three values from user. Q= square root (( 2*value1*value2)/value3)\n",
    "import math\n",
    "num1=int(input('enter first number: '))\n",
    "num2=int(input('enter second number: '))\n",
    "num3=int(input('enter third number: '))\n",
    "if num3<1:\n",
    "    print('Third number must be positive integer')\n",
    "else:\n",
    "    q=math.sqrt((2*num1*num2)/num3)\n",
    "    print('The answer is:', q)"
   ]
  },
  {
   "cell_type": "code",
   "execution_count": 6,
   "metadata": {},
   "outputs": [
    {
     "name": "stdout",
     "output_type": "stream",
     "text": [
      "Enter text to print::\n",
      "Q2g3m4a5d\n",
      "Result: Qgmad\n"
     ]
    }
   ],
   "source": [
    "#Q5-Please write a program which accepts a string from console and print the characters\n",
    "#that have even indexes.\n",
    "print('Enter text to print::')\n",
    "inputchars = input()\n",
    "if inputchars:\n",
    "    string = \"\"\n",
    "    for i in inputchars:\n",
    "        if inputchars.index(i)%2 == 0:\n",
    "            string += str(i)\n",
    "    print(\"Result:\" ,string)"
   ]
  },
  {
   "cell_type": "code",
   "execution_count": null,
   "metadata": {},
   "outputs": [],
   "source": []
  }
 ],
 "metadata": {
  "kernelspec": {
   "display_name": "Python 3",
   "language": "python",
   "name": "python3"
  },
  "language_info": {
   "codemirror_mode": {
    "name": "ipython",
    "version": 3
   },
   "file_extension": ".py",
   "mimetype": "text/x-python",
   "name": "python",
   "nbconvert_exporter": "python",
   "pygments_lexer": "ipython3",
   "version": "3.7.6"
  }
 },
 "nbformat": 4,
 "nbformat_minor": 4
}
